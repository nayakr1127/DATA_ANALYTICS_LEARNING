{
 "cells": [
  {
   "cell_type": "code",
   "execution_count": 1,
   "metadata": {},
   "outputs": [
    {
     "name": "stdout",
     "output_type": "stream",
     "text": [
      "time =  9.313876914999998\n"
     ]
    }
   ],
   "source": [
    "import time\n",
    "\n",
    "t1 = time.perf_counter()\n",
    "\n",
    "import urllib.request\n",
    "\n",
    "try:\n",
    "    url = urllib.request.urlopen(\"https://www.python.org/\")\n",
    "    content = url.read()\n",
    "    url.close()\n",
    "except urllib.error.HTTPError:\n",
    "    print('Not found!!')\n",
    "    exit()\n",
    "\n",
    "time.sleep(1)\n",
    "\n",
    "f = open ('python.html', 'wb')\n",
    "f.write(content)\n",
    "f.close()\n",
    "\n",
    "t2 = time.perf_counter()\n",
    "\n",
    "print('time = ', t2-t1)\n"
   ]
  },
  {
   "cell_type": "code",
   "execution_count": null,
   "metadata": {},
   "outputs": [],
   "source": []
  }
 ],
 "metadata": {
  "kernelspec": {
   "display_name": "Python 3",
   "language": "python",
   "name": "python3"
  },
  "language_info": {
   "codemirror_mode": {
    "name": "ipython",
    "version": 3
   },
   "file_extension": ".py",
   "mimetype": "text/x-python",
   "name": "python",
   "nbconvert_exporter": "python",
   "pygments_lexer": "ipython3",
   "version": "3.7.6"
  }
 },
 "nbformat": 4,
 "nbformat_minor": 4
}
