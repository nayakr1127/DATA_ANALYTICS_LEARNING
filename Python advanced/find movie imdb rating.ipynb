{
 "cells": [
  {
   "cell_type": "code",
   "execution_count": 4,
   "metadata": {},
   "outputs": [],
   "source": [
    "import requests\n",
    "import collections\n",
    "from typing import List"
   ]
  },
  {
   "cell_type": "code",
   "execution_count": 5,
   "metadata": {},
   "outputs": [],
   "source": [
    "Movie = collections.namedtuple('Movie', 'imdb_code, title, director, keywords, '\n",
    "                                        'duration, genres, rating, year, imdb_score')\n"
   ]
  },
  {
   "cell_type": "code",
   "execution_count": 6,
   "metadata": {},
   "outputs": [],
   "source": [
    "def find_movie_by_title(keyword: str) -> List[Movie]:\n",
    "    url = f'http://movie_service.talkpython.fm/api/search/{keyword}'\n",
    "\n",
    "    resp = requests.get(url)\n",
    "    resp.raise_for_status()\n",
    "\n",
    "    results = resp.json()\n",
    "    movies = []\n",
    "    for r in results.get('hits'):\n",
    "        movies.append(Movie(**r))\n",
    "\n",
    "    return movies"
   ]
  },
  {
   "cell_type": "code",
   "execution_count": 8,
   "metadata": {},
   "outputs": [
    {
     "name": "stdout",
     "output_type": "stream",
     "text": [
      "Keyword of title search: matrix\n",
      "There are 4 movies found.\n",
      "The Matrix Revolutions with code tt0242653 has score 6.7\n",
      "The Matrix Reloaded with code tt0234215 has score 7.2\n",
      "The Matrix with code tt0133093 has score 8.7\n",
      "The Helix... Loaded with code tt0401462 has score 1.9\n"
     ]
    }
   ],
   "source": [
    "def main():\n",
    "    keyword = input('Keyword of title search: ')\n",
    "    results = find_movie_by_title(keyword)\n",
    "\n",
    "    print(f'There are {len(results)} movies found.')\n",
    "    for r in results:\n",
    "        print(f\"{r.title} with code {r.imdb_code} has score {r.imdb_score}\")\n",
    "\n",
    "\n",
    "if __name__ == '__main__':\n",
    "    main()\n"
   ]
  },
  {
   "cell_type": "code",
   "execution_count": null,
   "metadata": {},
   "outputs": [],
   "source": []
  }
 ],
 "metadata": {
  "kernelspec": {
   "display_name": "Python 3",
   "language": "python",
   "name": "python3"
  },
  "language_info": {
   "codemirror_mode": {
    "name": "ipython",
    "version": 3
   },
   "file_extension": ".py",
   "mimetype": "text/x-python",
   "name": "python",
   "nbconvert_exporter": "python",
   "pygments_lexer": "ipython3",
   "version": "3.7.6"
  }
 },
 "nbformat": 4,
 "nbformat_minor": 4
}
