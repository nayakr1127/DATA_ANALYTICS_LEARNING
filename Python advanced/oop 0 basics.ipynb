{
 "cells": [
  {
   "cell_type": "code",
   "execution_count": 3,
   "metadata": {},
   "outputs": [
    {
     "name": "stdout",
     "output_type": "stream",
     "text": [
      "Starting Airbus engine\n",
      "Starting Boieng Engine \n"
     ]
    }
   ],
   "source": [
    "class Flight:\n",
    "    def __init__(self,engine):\n",
    "        self.engine=engine\n",
    "        \n",
    "    def startEngine(self):\n",
    "        self.engine.start();\n",
    "        \n",
    "class AirbusEngine:\n",
    "    def start(self):\n",
    "        print(\"Starting Airbus engine\")\n",
    "\n",
    "class BoeingEngine:\n",
    "    def start(self):\n",
    "        print(\"Starting Boieng Engine \")\n",
    "        \n",
    "ae = AirbusEngine()\n",
    "f = Flight(ae)\n",
    "f.startEngine()\n",
    "\n",
    "be = BoeingEngine()\n",
    "f1 = Flight(be)\n",
    "f1.startEngine()"
   ]
  },
  {
   "cell_type": "code",
   "execution_count": null,
   "metadata": {},
   "outputs": [],
   "source": []
  }
 ],
 "metadata": {
  "kernelspec": {
   "display_name": "Python 3",
   "language": "python",
   "name": "python3"
  },
  "language_info": {
   "codemirror_mode": {
    "name": "ipython",
    "version": 3
   },
   "file_extension": ".py",
   "mimetype": "text/x-python",
   "name": "python",
   "nbconvert_exporter": "python",
   "pygments_lexer": "ipython3",
   "version": "3.7.6"
  }
 },
 "nbformat": 4,
 "nbformat_minor": 4
}
