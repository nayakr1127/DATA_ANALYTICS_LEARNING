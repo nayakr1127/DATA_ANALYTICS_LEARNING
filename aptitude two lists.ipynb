{
  "nbformat": 4,
  "nbformat_minor": 0,
  "metadata": {
    "colab": {
      "name": "Untitled2.ipynb",
      "provenance": [],
      "collapsed_sections": [],
      "authorship_tag": "ABX9TyP+skmwhH8r7H8vSdTfEVT2",
      "include_colab_link": true
    },
    "kernelspec": {
      "name": "python3",
      "display_name": "Python 3"
    },
    "language_info": {
      "name": "python"
    }
  },
  "cells": [
    {
      "cell_type": "markdown",
      "metadata": {
        "id": "view-in-github",
        "colab_type": "text"
      },
      "source": [
        "<a href=\"https://colab.research.google.com/github/nayakr1127/Data-Science-Projects-1/blob/master/aptitude%20two%20lists.ipynb\" target=\"_parent\"><img src=\"https://colab.research.google.com/assets/colab-badge.svg\" alt=\"Open In Colab\"/></a>"
      ]
    },
    {
      "cell_type": "code",
      "metadata": {
        "id": "I5QR9E9aDKyZ"
      },
      "source": [
        "a = [1, 3, 8, 15,20]\n",
        "\n",
        "output1 = [1, 4, 12, 27, 47]"
      ],
      "execution_count": 16,
      "outputs": []
    },
    {
      "cell_type": "code",
      "metadata": {
        "id": "EfCNFDSYDU6e"
      },
      "source": [
        "out=[]\n",
        "b=0\n",
        "for element in a:\n",
        "  b=b+element\n",
        "  out.append(b)\n",
        "\n"
      ],
      "execution_count": 17,
      "outputs": []
    },
    {
      "cell_type": "code",
      "metadata": {
        "id": "o1uzHh9yDxtD",
        "colab": {
          "base_uri": "https://localhost:8080/"
        },
        "outputId": "9ff5a849-4022-459d-aa2b-9316fd9e872b"
      },
      "source": [
        "out"
      ],
      "execution_count": 18,
      "outputs": [
        {
          "output_type": "execute_result",
          "data": {
            "text/plain": [
              "[1, 4, 12, 27, 47]"
            ]
          },
          "metadata": {
            "tags": []
          },
          "execution_count": 18
        }
      ]
    },
    {
      "cell_type": "code",
      "metadata": {
        "id": "RcL8N1QRD3uL"
      },
      "source": [
        "aa = [1,2,3,8,11]\n",
        "o=[1,3,6,14,25]"
      ],
      "execution_count": 19,
      "outputs": []
    },
    {
      "cell_type": "code",
      "metadata": {
        "id": "_jpJr211_nWu"
      },
      "source": [
        "o=[]\n",
        "b=0\n",
        "for elem in aa:\n",
        "  b=b+elem\n",
        "  o.append(b)\n"
      ],
      "execution_count": 20,
      "outputs": []
    },
    {
      "cell_type": "code",
      "metadata": {
        "colab": {
          "base_uri": "https://localhost:8080/"
        },
        "id": "txvgN_T6_5D8",
        "outputId": "68526fca-0b43-4f8f-defe-4d0e3afc432f"
      },
      "source": [
        "o"
      ],
      "execution_count": 21,
      "outputs": [
        {
          "output_type": "execute_result",
          "data": {
            "text/plain": [
              "[1, 3, 6, 14, 25]"
            ]
          },
          "metadata": {
            "tags": []
          },
          "execution_count": 21
        }
      ]
    },
    {
      "cell_type": "code",
      "metadata": {
        "id": "W9LHAKNcAQWi"
      },
      "source": [
        ""
      ],
      "execution_count": 21,
      "outputs": []
    }
  ]
}