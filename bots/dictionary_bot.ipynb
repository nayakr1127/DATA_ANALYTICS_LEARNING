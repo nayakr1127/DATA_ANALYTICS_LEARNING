{
 "cells": [
  {
   "cell_type": "code",
   "execution_count": 2,
   "metadata": {},
   "outputs": [],
   "source": [
    "import json\n",
    "from difflib import get_close_matches\n",
    "data = json.load(open(\"dict_data.json\"))"
   ]
  },
  {
   "cell_type": "code",
   "execution_count": 6,
   "metadata": {},
   "outputs": [
    {
     "name": "stdout",
     "output_type": "stream",
     "text": [
      "Do you want dictionary? y/n:  y\n",
      "Enter word: fgdd\n",
      "Did you mean giddy instead? Enter y/n: h\n",
      "We didn't understand your entry. Type 'y' or 'n'\n",
      "RUN AGAIN y/n:  y\n",
      "Enter word: gh\n",
      "Did you mean ghi instead? Enter y/n: y\n",
      "Butter from which the water has been removed.\n",
      "RUN AGAIN y/n:  y\n",
      "Enter word: gg\n",
      "Did you mean egg instead? Enter y/n: y\n",
      "An approximately spherical or ellipsoidal body produced by birds, snakes, insects and other animals housing the embryo during its development.\n",
      "Egg (either fertilized or not) from domesticated birds, most commonly hens, seen as food.\n",
      "The female gamete of an animal or plant, capable of fusing with a male gamete to produce a zygote.\n",
      "The contents of one or more (hen's usually) eggs as a culinary ingredient, etc.\n",
      "Something shaped like an egg, such as an Easter egg or a chocolate egg.\n",
      "A swelling on one's head, usually large or noticeable, associated with an injury.\n",
      "A person of Caucasian (Western) ancestry, who has a strong desire to learn about and immerse him- or herself in East Asian culture, and/or such a person who is perceived as behaving as if he or she were Asian.\n",
      "In terms such as good egg, bad egg, tough egg etc., a person, fellow.\n",
      "A foolish or obnoxious person.\n",
      "RUN AGAIN y/n:  n\n",
      "SEE YA!!! BYEEE!!\n"
     ]
    }
   ],
   "source": [
    "ans = input('Do you want dictionary? y/n:  ')\n",
    "ans = ans.lower()\n",
    "while (ans == 'y'):\n",
    "    word = input(\"Enter word: \")\n",
    "    def translate(w):\n",
    "        w = w.lower()\n",
    "        if w in data:\n",
    "            return data[w]\n",
    "        elif len(get_close_matches(w, data.keys())) > 0:\n",
    "            yn = input(\"Did you mean %s instead? Enter y/n: \" % get_close_matches(w, data.keys())[0])\n",
    "            if yn == \"y\":\n",
    "                return data[get_close_matches(w, data.keys())[0]]\n",
    "            elif yn == \"n\":\n",
    "                return \"The word doesn't exist. Please double check it.\"\n",
    "            else:\n",
    "                return \"We didn't understand your entry. Type 'y' or 'n'\"\n",
    "        else:\n",
    "            return \"The word doesn't exist. Please double check it.\"\n",
    "\n",
    "    output = translate(word)\n",
    "\n",
    "    if type(output) == list:\n",
    "        for item in output:\n",
    "            print(item)\n",
    "    else:\n",
    "        print(output)\n",
    "    ans = input('RUN AGAIN y/n:  ')\n",
    "    \n",
    "\n",
    "print('SEE YA!!! BYE BYEEE!!')\n"
   ]
  },
  {
   "cell_type": "code",
   "execution_count": null,
   "metadata": {},
   "outputs": [],
   "source": []
  }
 ],
 "metadata": {
  "kernelspec": {
   "display_name": "Python 3",
   "language": "python",
   "name": "python3"
  },
  "language_info": {
   "codemirror_mode": {
    "name": "ipython",
    "version": 3
   },
   "file_extension": ".py",
   "mimetype": "text/x-python",
   "name": "python",
   "nbconvert_exporter": "python",
   "pygments_lexer": "ipython3",
   "version": "3.7.6"
  }
 },
 "nbformat": 4,
 "nbformat_minor": 4
}
