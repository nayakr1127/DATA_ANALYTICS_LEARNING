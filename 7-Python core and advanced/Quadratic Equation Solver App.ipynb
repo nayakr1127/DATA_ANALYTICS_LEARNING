{
 "cells": [
  {
   "cell_type": "code",
   "execution_count": 8,
   "metadata": {},
   "outputs": [],
   "source": [
    "import cmath"
   ]
  },
  {
   "cell_type": "code",
   "execution_count": 9,
   "metadata": {},
   "outputs": [
    {
     "name": "stdout",
     "output_type": "stream",
     "text": [
      "Welcome to the Quadratic Equation Solver App.\n",
      "A quadratic equation is of the form ax^2 + bx + c = 0\n"
     ]
    }
   ],
   "source": [
    "print('Welcome to the Quadratic Equation Solver App.')\n",
    "print('A quadratic equation is of the form ax^2 + bx + c = 0')\n"
   ]
  },
  {
   "cell_type": "code",
   "execution_count": 10,
   "metadata": {},
   "outputs": [
    {
     "name": "stdout",
     "output_type": "stream",
     "text": [
      "\n",
      "How many equations would you like to solve today: 2\n"
     ]
    }
   ],
   "source": [
    "eq_number = int(input(\"\\nHow many equations would you like to solve today: \"))"
   ]
  },
  {
   "cell_type": "code",
   "execution_count": 11,
   "metadata": {},
   "outputs": [
    {
     "name": "stdout",
     "output_type": "stream",
     "text": [
      "\n",
      "Solving equation #1\n",
      "--------------------------------------------------\n",
      "\n",
      "Please enter your value of a (coefficient of x^2): 2\n",
      "Please enter your value of b (coefficient of x): 3\n",
      "Please enter your value of c (coefficient): 4\n",
      "\n",
      "The solutions to 2.0x^2 + 3.0x + 4.0 = 0 are: \n",
      "\n",
      "\tx1 = (-0.75+1.1989578808281798j)\n",
      "\tx2 = (-0.75-1.1989578808281798j)\n",
      "\n",
      "Thank you for using the Quadratic Equation Solver App. Goodbye.\n",
      "\n",
      "Solving equation #2\n",
      "--------------------------------------------------\n",
      "\n",
      "Please enter your value of a (coefficient of x^2): 3\n",
      "Please enter your value of b (coefficient of x): 4\n",
      "Please enter your value of c (coefficient): 5\n",
      "\n",
      "The solutions to 3.0x^2 + 4.0x + 5.0 = 0 are: \n",
      "\n",
      "\tx1 = (-0.6666666666666666+1.1055415967851332j)\n",
      "\tx2 = (-0.6666666666666666-1.1055415967851332j)\n",
      "\n",
      "Thank you for using the Quadratic Equation Solver App. Goodbye.\n"
     ]
    }
   ],
   "source": [
    "\n",
    "#Loop through and solve each equation\n",
    "for i in range(eq_number):\n",
    "    print(\"\\nSolving equation #\" + str(i+1))\n",
    "    print(\"--------------------------------------------------\")\n",
    "    a = float(input(\"\\nPlease enter your value of a (coefficient of x^2): \"))\n",
    "    b = float(input(\"Please enter your value of b (coefficient of x): \"))\n",
    "    c = float(input(\"Please enter your value of c (coefficient): \"))\n",
    "\n",
    "   #Solving the quadratic formula\n",
    "    x1 = (-b + cmath.sqrt(b**2 - 4*a*c))/(2*a)\n",
    "    x2 = (-b - cmath.sqrt(b**2 - 4*a*c))/(2*a)\n",
    "   \n",
    "    print(\"\\nThe solutions to \" + str(a) + \"x^2 + \" + str(b) + \"x + \" + str(c) +\n",
    "\" = 0 are: \")\n",
    "    print(\"\\n\\tx1 = \" + str(x1))\n",
    "    print(\"\\tx2 = \" + str(x2))\n",
    "\n",
    "    print(\"\\nThank you for using the Quadratic Equation Solver App. Goodbye.\")"
   ]
  },
  {
   "cell_type": "code",
   "execution_count": null,
   "metadata": {},
   "outputs": [],
   "source": []
  }
 ],
 "metadata": {
  "kernelspec": {
   "display_name": "Python 3",
   "language": "python",
   "name": "python3"
  },
  "language_info": {
   "codemirror_mode": {
    "name": "ipython",
    "version": 3
   },
   "file_extension": ".py",
   "mimetype": "text/x-python",
   "name": "python",
   "nbconvert_exporter": "python",
   "pygments_lexer": "ipython3",
   "version": "3.7.6"
  }
 },
 "nbformat": 4,
 "nbformat_minor": 4
}
