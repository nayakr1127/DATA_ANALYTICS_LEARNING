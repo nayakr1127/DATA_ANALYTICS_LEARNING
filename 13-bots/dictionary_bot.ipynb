{
 "cells": [
  {
   "cell_type": "code",
   "execution_count": 2,
   "metadata": {},
   "outputs": [],
   "source": [
    "import json\n",
    "from difflib import get_close_matches\n",
    "data = json.load(open(\"dict_data.json\"))"
   ]
  },
  {
   "cell_type": "code",
   "execution_count": 4,
   "metadata": {},
   "outputs": [
    {
     "name": "stdout",
     "output_type": "stream",
     "text": [
      "Do you want dictionary? y/n:  y\n",
      "Enter word: yyut\n",
      "Did you mean youth instead? Enter y if yes, or n if no: n\n",
      "The word doesn't exist. Please double check it.\n",
      "run again y/n:  y\n",
      "Enter word: ggui\n",
      "Did you mean guilt instead? Enter y if yes, or n if no: n\n",
      "The word doesn't exist. Please double check it.\n",
      "run again y/n:  y\n",
      "Enter word: yyy\n",
      "Did you mean syzygy instead? Enter y if yes, or n if no: y\n",
      "Astronomy, astrology: The alignment of three or more celestial bodies in the same gravitational system along a plane.\n",
      "Zoology: The pairing of chromosomes in meiosis.\n",
      "run again y/n:  n\n",
      "SEE YA!!! BYEEE!!\n"
     ]
    }
   ],
   "source": [
    "ans = input('Do you want dictionary? y/n:  ')\n",
    "ans = ans.lower()\n",
    "while (ans == 'y'):\n",
    "    word = input(\"Enter word: \")\n",
    "    def translate(w):\n",
    "        w = w.lower()\n",
    "        if w in data:\n",
    "            return data[w]\n",
    "        elif len(get_close_matches(w, data.keys())) > 0:\n",
    "            yn = input(\"Did you mean %s instead? Enter y if yes, or n if no: \" % get_close_matches(w, data.keys())[0])\n",
    "            if yn == \"y\":\n",
    "                return data[get_close_matches(w, data.keys())[0]]\n",
    "            elif yn == \"n\":\n",
    "                return \"The word doesn't exist. Please double check it.\"\n",
    "            else:\n",
    "                return \"We didn't understand your entry.\"\n",
    "        else:\n",
    "            return \"The word doesn't exist. Please double check it.\"\n",
    "\n",
    "    output = translate(word)\n",
    "\n",
    "    if type(output) == list:\n",
    "        for item in output:\n",
    "            print(item)\n",
    "    else:\n",
    "        print(output)\n",
    "    ans = input('run again y/n:  ')\n",
    "    \n",
    "\n",
    "print('SEE YA!!! BYEEE!!')\n"
   ]
  },
  {
   "cell_type": "code",
   "execution_count": null,
   "metadata": {},
   "outputs": [],
   "source": []
  }
 ],
 "metadata": {
  "kernelspec": {
   "display_name": "Python 3",
   "language": "python",
   "name": "python3"
  },
  "language_info": {
   "codemirror_mode": {
    "name": "ipython",
    "version": 3
   },
   "file_extension": ".py",
   "mimetype": "text/x-python",
   "name": "python",
   "nbconvert_exporter": "python",
   "pygments_lexer": "ipython3",
   "version": "3.7.6"
  }
 },
 "nbformat": 4,
 "nbformat_minor": 4
}
